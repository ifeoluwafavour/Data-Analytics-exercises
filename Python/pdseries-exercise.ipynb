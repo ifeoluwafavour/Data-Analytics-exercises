{
 "cells": [
  {
   "cell_type": "code",
   "execution_count": 1,
   "id": "b993359c-42a1-49f3-943f-5a2bc8f609b9",
   "metadata": {},
   "outputs": [],
   "source": [
    "import numpy as np\n",
    "import pandas as pd\n"
   ]
  },
  {
   "cell_type": "code",
   "execution_count": 2,
   "id": "b3859220-3450-4df0-bba9-e3615a1aeb03",
   "metadata": {},
   "outputs": [
    {
     "name": "stdout",
     "output_type": "stream",
     "text": [
      "            Entity Code  Year  Population, female (% of total population)\n",
      "0      Afghanistan  AFG  1960                                   48.320662\n",
      "1      Afghanistan  AFG  1961                                   48.412689\n",
      "2      Afghanistan  AFG  1962                                   48.499387\n",
      "3      Afghanistan  AFG  1963                                   48.580874\n",
      "4      Afghanistan  AFG  1964                                   48.657136\n",
      "...            ...  ...   ...                                         ...\n",
      "14748     Zimbabwe  ZWE  2016                                   52.430184\n",
      "14749     Zimbabwe  ZWE  2017                                   52.396959\n",
      "14750     Zimbabwe  ZWE  2018                                   52.356752\n",
      "14751     Zimbabwe  ZWE  2019                                   52.317327\n",
      "14752     Zimbabwe  ZWE  2020                                   52.283894\n",
      "\n",
      "[14753 rows x 4 columns]\n"
     ]
    }
   ],
   "source": [
    "df = pd.read_csv('share-population-female.csv')\n",
    "\n",
    "print(df)"
   ]
  },
  {
   "cell_type": "code",
   "execution_count": 8,
   "id": "54dc7cd5-967e-46eb-b358-660c7634215b",
   "metadata": {},
   "outputs": [],
   "source": [
    "myseries = pd.Series({'Math': 35.47, \n",
    "                      'English': 55.67, \n",
    "                      'Biology': 24.09, \n",
    "                      'Chemistry': 60.55, \n",
    "                      'Physics': 48.33},\n",
    "                    name='Score in percentage')"
   ]
  },
  {
   "cell_type": "code",
   "execution_count": 10,
   "id": "224a7d07-af0f-4737-b121-6360177af324",
   "metadata": {},
   "outputs": [
    {
     "data": {
      "text/plain": [
       "Math         35.47\n",
       "English      55.67\n",
       "Biology      24.09\n",
       "Chemistry    60.55\n",
       "Name: Score in percentage, dtype: float64"
      ]
     },
     "execution_count": 10,
     "metadata": {},
     "output_type": "execute_result"
    }
   ],
   "source": [
    "myseries['Math' : 'Chemistry']"
   ]
  },
  {
   "cell_type": "code",
   "execution_count": 11,
   "id": "4aca8710-c4c2-4e13-be79-b12bcb0aaef2",
   "metadata": {},
   "outputs": [
    {
     "data": {
      "text/plain": [
       "Math         False\n",
       "English       True\n",
       "Biology      False\n",
       "Chemistry     True\n",
       "Physics      False\n",
       "Name: Score in percentage, dtype: bool"
      ]
     },
     "execution_count": 11,
     "metadata": {},
     "output_type": "execute_result"
    }
   ],
   "source": [
    "myseries > 50"
   ]
  },
  {
   "cell_type": "code",
   "execution_count": 12,
   "id": "72d4723f-adfd-438e-8dd7-dcd991047812",
   "metadata": {},
   "outputs": [
    {
     "data": {
      "text/plain": [
       "English      55.67\n",
       "Chemistry    60.55\n",
       "Name: Score in percentage, dtype: float64"
      ]
     },
     "execution_count": 12,
     "metadata": {},
     "output_type": "execute_result"
    }
   ],
   "source": [
    "myseries[myseries > 50]"
   ]
  },
  {
   "cell_type": "code",
   "execution_count": 23,
   "id": "1c2a6ed0-b210-4e07-914a-8bbd3f3ef02d",
   "metadata": {},
   "outputs": [
    {
     "data": {
      "text/plain": [
       "first     2\n",
       "second    3\n",
       "third     4\n",
       "fourth    5\n",
       "dtype: int64"
      ]
     },
     "execution_count": 23,
     "metadata": {},
     "output_type": "execute_result"
    }
   ],
   "source": [
    "X = [2, 3, 4, 5]  #turning a python list to a pandas series \n",
    "Y = pd.Series(X, index=['first', 'second', 'third', 'fourth']) #specifying index name\n",
    "\n",
    "Y"
   ]
  },
  {
   "cell_type": "code",
   "execution_count": 24,
   "id": "eb4b2b47-f653-4a9b-9675-f5516565422a",
   "metadata": {},
   "outputs": [
    {
     "data": {
      "text/plain": [
       "fourth    5\n",
       "third     4\n",
       "second    3\n",
       "first     2\n",
       "dtype: int64"
      ]
     },
     "execution_count": 24,
     "metadata": {},
     "output_type": "execute_result"
    }
   ],
   "source": [
    "Y[::-1] #elements in reverse"
   ]
  },
  {
   "cell_type": "code",
   "execution_count": 27,
   "id": "7be44e5c-7ce2-4b60-83fc-5f4277cea929",
   "metadata": {},
   "outputs": [
    {
     "data": {
      "text/plain": [
       "first     2\n",
       "second    3\n",
       "dtype: int64"
      ]
     },
     "execution_count": 27,
     "metadata": {},
     "output_type": "execute_result"
    }
   ],
   "source": [
    "mask = Y <= 3\n",
    "Y[mask]"
   ]
  },
  {
   "cell_type": "code",
   "execution_count": 29,
   "id": "fecdfcb0-71eb-43c6-946f-83ec3126ef96",
   "metadata": {},
   "outputs": [
    {
     "data": {
      "text/plain": [
       "True"
      ]
     },
     "execution_count": 29,
     "metadata": {},
     "output_type": "execute_result"
    }
   ],
   "source": [
    "Y.all() #return true if none of the element is zero"
   ]
  },
  {
   "cell_type": "code",
   "execution_count": 30,
   "id": "822b141a-8224-467c-af8a-6929a78d53e0",
   "metadata": {},
   "outputs": [
    {
     "data": {
      "text/plain": [
       "14"
      ]
     },
     "execution_count": 30,
     "metadata": {},
     "output_type": "execute_result"
    }
   ],
   "source": [
    "Y.sum()"
   ]
  },
  {
   "cell_type": "code",
   "execution_count": null,
   "id": "5e809968-cd45-4c63-b5f2-0d67c7795c92",
   "metadata": {},
   "outputs": [],
   "source": []
  }
 ],
 "metadata": {
  "kernelspec": {
   "display_name": "Python 3 (ipykernel)",
   "language": "python",
   "name": "python3"
  },
  "language_info": {
   "codemirror_mode": {
    "name": "ipython",
    "version": 3
   },
   "file_extension": ".py",
   "mimetype": "text/x-python",
   "name": "python",
   "nbconvert_exporter": "python",
   "pygments_lexer": "ipython3",
   "version": "3.10.4"
  }
 },
 "nbformat": 4,
 "nbformat_minor": 5
}
